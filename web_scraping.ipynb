{
 "cells": [
  {
   "cell_type": "code",
   "execution_count": null,
   "id": "642c7779-4804-455d-a65a-dbea0df8bc44",
   "metadata": {},
   "outputs": [],
   "source": [
    "import os\n",
    "import numpy as np\n",
    "import requests # permission\n",
    "from bs4 import BeautifulSoup # webscraping package\n"
   ]
  },
  {
   "cell_type": "code",
   "execution_count": null,
   "id": "7126976d-e7e8-476e-afbc-da56467c0424",
   "metadata": {},
   "outputs": [],
   "source": [
    "url = \"https://developer.imdb.com/non-commercial-datasets/\"\n",
    "requests.get(url)"
   ]
  },
  {
   "cell_type": "code",
   "execution_count": null,
   "id": "7dc86f7d-45f1-44a3-ad60-fc8c7faff3b2",
   "metadata": {},
   "outputs": [],
   "source": [
    "url1 = \"https://www.worldometers.info/coronavirus/\"\n",
    "requests.get(url1)"
   ]
  },
  {
   "cell_type": "code",
   "execution_count": null,
   "id": "e4b2d5e0-a444-4870-8750-0d639cb43a03",
   "metadata": {},
   "outputs": [],
   "source": [
    "url2 = \"https://www.ambitionbox.com/\"\n",
    "requests.get(url2)"
   ]
  },
  {
   "cell_type": "code",
   "execution_count": null,
   "id": "6bc09f50-729d-4bcb-bb2d-2291495bae65",
   "metadata": {},
   "outputs": [],
   "source": [
    "url3 = \"https://www.imdb.com/\"\n",
    "requests.get(url3)"
   ]
  },
  {
   "cell_type": "code",
   "execution_count": null,
   "id": "d262cfe8-9343-437d-aed7-424ba14cbd94",
   "metadata": {},
   "outputs": [],
   "source": [
    "headers = {'User-Agent':'Mozilla/5.0 (Windows NT 6.3; Win 64 ; X64) Apple WeKit /537.36(KHTML, like Gecko) Chrome/80.0.3987.162 Safari/537.36'}"
   ]
  },
  {
   "cell_type": "code",
   "execution_count": null,
   "id": "a65d45ba-56e1-4c2e-86de-df3c8474e8d1",
   "metadata": {},
   "outputs": [],
   "source": [
    "html = requests.get(\"https://www.imdb.com/\",headers=headers).text\n"
   ]
  },
  {
   "cell_type": "code",
   "execution_count": null,
   "id": "7cb6d9d9-9c9d-405e-a79a-b0f22c6355db",
   "metadata": {},
   "outputs": [],
   "source": [
    "soup = BeautifulSoup(html)\n",
    "soup"
   ]
  },
  {
   "cell_type": "code",
   "execution_count": null,
   "id": "fdfc5fdb-3ffe-45e0-81ff-a39db9d6c013",
   "metadata": {},
   "outputs": [],
   "source": [
    "soup.find('title').getText()"
   ]
  },
  {
   "cell_type": "code",
   "execution_count": null,
   "id": "33b58071-f995-41b3-a311-85ec25fafdab",
   "metadata": {},
   "outputs": [],
   "source": [
    "soup.findAll('h1')"
   ]
  },
  {
   "cell_type": "code",
   "execution_count": null,
   "id": "55db9044-32ed-4d9e-9e73-838a49babe19",
   "metadata": {},
   "outputs": [],
   "source": [
    "soup.findAll('h2',{'class':'ipc-title__text'})"
   ]
  },
  {
   "cell_type": "code",
   "execution_count": null,
   "id": "cf5cd954-906e-4125-b62c-39b526023d00",
   "metadata": {},
   "outputs": [],
   "source": [
    "titlelist = soup.findAll('h3', {'class':'ipc-title__text'})\n",
    "titlelist"
   ]
  },
  {
   "cell_type": "code",
   "execution_count": null,
   "id": "6e89f600-4986-44a5-bf38-d092f1698a45",
   "metadata": {},
   "outputs": [],
   "source": [
    "for title in titlelist:\n",
    "    print(title.getText())"
   ]
  },
  {
   "cell_type": "markdown",
   "id": "7397b869-2e21-47f4-906f-c2f1c64d9f79",
   "metadata": {},
   "source": [
    "# https://www.worldmeters.info/coronavirus/#countries"
   ]
  },
  {
   "cell_type": "code",
   "execution_count": null,
   "id": "fb60b9fe-8820-4ef4-ae69-3ea0580acfce",
   "metadata": {},
   "outputs": [],
   "source": [
    "import matplotlib.pyplot as plt\n",
    "import pandas as pd\n",
    "import numpy as np\n",
    "%matplotlib inline\n",
    "import seaborn as sns\n",
    "sns.set()\n",
    "import warnings\n",
    "warnings.filterwarnings('ignore')\n",
    "import sklearn, scipy\n",
    "from datetime import date, datetime\n",
    "from urllib.request import Request, urlopen\n",
    "from bs4 import BeautifulSoup\n",
    "import plotly.graph_objects as go\n",
    "import plotly.express as px\n",
    "import plotly.offline as py\n",
    "import gc"
   ]
  },
  {
   "cell_type": "code",
   "execution_count": null,
   "id": "2e53ba4a-8452-4434-a5c9-8226be9b504a",
   "metadata": {},
   "outputs": [],
   "source": [
    "url = \"https://www.worldometers.info/coronavirus/#countries\"\n",
    "requests.get(url).text"
   ]
  },
  {
   "cell_type": "code",
   "execution_count": null,
   "id": "86f09186-a6bf-491e-85bb-0bcb7e233762",
   "metadata": {},
   "outputs": [],
   "source": [
    "url = 'https://www.worldometers.info/coronavir/#countries'\n",
    "requests.get(url).text"
   ]
  },
  {
   "cell_type": "code",
   "execution_count": null,
   "id": "a4f02dd0-7dba-4d4f-a7a1-86f3fcb7c291",
   "metadata": {},
   "outputs": [],
   "source": [
    "headers = {'User-Agent':'Mozilla/5.0 (Windows NT 6.3; Win 64 ; X64) Apple WeKit /537.36(KHTML, like Gecko) Chrome/80.0.3987.162 Safari/537.36'}"
   ]
  },
  {
   "cell_type": "code",
   "execution_count": null,
   "id": "350ae7b3-d1ad-4b31-b1c4-e69cde50bf06",
   "metadata": {},
   "outputs": [],
   "source": [
    "html = requests.get(\"https://www.worldometers.info/coronavirus/#countries\",headers=headers).text"
   ]
  },
  {
   "cell_type": "code",
   "execution_count": null,
   "id": "2008e667-6444-4f71-b388-58fe720e3b1d",
   "metadata": {},
   "outputs": [],
   "source": [
    "page_soup = BeautifulSoup(html, 'html.parser')\n",
    "page_soup"
   ]
  },
  {
   "cell_type": "code",
   "execution_count": null,
   "id": "72058a5f-1ca6-44bc-8f61-ea4ed71a41b1",
   "metadata": {},
   "outputs": [],
   "source": [
    "today = datetime.now()\n",
    "print(today)"
   ]
  },
  {
   "cell_type": "code",
   "execution_count": null,
   "id": "f57eb659-639c-428a-8a59-0cf8cf606c33",
   "metadata": {},
   "outputs": [],
   "source": [
    "yesterday = \"%s %d, %d\" %(date.today().strftime('%b'), today.day-1,today.year)\n",
    "print(yesterday)\n",
    "print()\n",
    "print(today)"
   ]
  },
  {
   "cell_type": "code",
   "execution_count": null,
   "id": "1183a453-363c-4ae0-a48b-b2c28f6f765b",
   "metadata": {},
   "outputs": [],
   "source": [
    "date.today().strftime('%b')\n"
   ]
  },
  {
   "cell_type": "code",
   "execution_count": null,
   "id": "45e87713-44a4-4ff0-9659-73157b8aa98d",
   "metadata": {},
   "outputs": [],
   "source": [
    "table = page_soup.findAll(\"table\",{\"id\":\"main_table_countries_yesterday\"})\n",
    "table"
   ]
  },
  {
   "cell_type": "code",
   "execution_count": null,
   "id": "282e9032-5672-4733-b24e-4f321901ef88",
   "metadata": {},
   "outputs": [],
   "source": [
    "containers = table[0].findAll('tr',{\"style\":\"\"})\n",
    "title = containers[0]\n",
    "title"
   ]
  },
  {
   "cell_type": "code",
   "execution_count": null,
   "id": "774a43e4-cc95-4b8d-aae7-2a4dfa229f7b",
   "metadata": {},
   "outputs": [],
   "source": [
    "containers[1]"
   ]
  },
  {
   "cell_type": "code",
   "execution_count": null,
   "id": "7428eaea-d366-439d-96f4-41586cd9fa70",
   "metadata": {},
   "outputs": [],
   "source": [
    "del containers[0]"
   ]
  },
  {
   "cell_type": "code",
   "execution_count": null,
   "id": "c9a8d884-3168-4062-a5e9-ca74b899aba2",
   "metadata": {},
   "outputs": [],
   "source": [
    "table = page_soup.findAll(\"table\",{'id':'main_table_countries_yesterday'})\n",
    "containers = table[0].findAll('tr',{\"style\":\"\"})\n",
    "title = containers[0]\n",
    "del containers[0]\n",
    "\n",
    "all_data = []\n",
    "clean = True\n",
    "\n",
    "for country in containers:\n",
    "    country_data = []\n",
    "    country_container = country.findAll('td')\n",
    "    if country_container[1].text=='China':\n",
    "        continue\n",
    "    for i in range(1, len(country_container)):\n",
    "        final_features = country_container[i].text\n",
    "        if clean:\n",
    "            if i != 1 and i!=len(country_container)-1:\n",
    "                final_features = final_features.replace(\",\",\"\")\n",
    "                if final_features.find(\"+\") != -1:\n",
    "                    final_features = final_features.replace(\"+\",\"\")\n",
    "                    final_features = float(final_features)\n",
    "                #if final_features.find(\"_\") != -1:\n",
    "                    #final_features = float(final_feature)*-1\n",
    "            if final_features == 'N/A':\n",
    "                final_features = 0\n",
    "            elif final_features ==\"\" or final_features == \" \":\n",
    "                final_features = -1\n",
    "            country_data.append(final_features)\n",
    "    all_data.append(country_data)"
   ]
  },
  {
   "cell_type": "code",
   "execution_count": null,
   "id": "6e5ea2ea-afb2-48ed-8923-e899fd50a34d",
   "metadata": {},
   "outputs": [],
   "source": [
    "all_data"
   ]
  },
  {
   "cell_type": "code",
   "execution_count": null,
   "id": "bfb23468-8e80-4064-8312-3cc0604d96c1",
   "metadata": {},
   "outputs": [],
   "source": [
    "df = pd.DataFrame(all_data)\n",
    "df.head()"
   ]
  },
  {
   "cell_type": "code",
   "execution_count": null,
   "id": "a747dad6-4f16-4e7c-9592-f77d798107f5",
   "metadata": {},
   "outputs": [],
   "source": [
    "df.drop([15,16,17,18,19,20],axis=1,inplace=True)"
   ]
  },
  {
   "cell_type": "code",
   "execution_count": null,
   "id": "0ff04863-f61b-4fb1-bdf7-fb02de02493f",
   "metadata": {},
   "outputs": [],
   "source": [
    "df.head()"
   ]
  },
  {
   "cell_type": "code",
   "execution_count": null,
   "id": "721bd4f7-00de-41c0-9b8d-294c4feecb58",
   "metadata": {},
   "outputs": [],
   "source": [
    "column_labels = ['Country','Total Cases','New Cases','Total Deaths','New Deaths','Total Recovered',\n",
    "                 'New Recovered', 'Active Cases','Serious Critical','Total Cases/1M pop','Death/1M pop',\n",
    "                 'Total Tests', 'Tests/1M pop', 'Population', 'Continent']"
   ]
  },
  {
   "cell_type": "code",
   "execution_count": null,
   "id": "e8b6d6de-3743-451a-afa4-9f0f76b84bf6",
   "metadata": {},
   "outputs": [],
   "source": [
    "df.columns= column_labels\n",
    "df"
   ]
  },
  {
   "cell_type": "code",
   "execution_count": null,
   "id": "a3442f23-d86f-4a82-ad57-6933822055b1",
   "metadata": {},
   "outputs": [],
   "source": [
    "df.info()"
   ]
  },
  {
   "cell_type": "code",
   "execution_count": null,
   "id": "d10b622d-e55b-4605-8d1e-7dbed718306c",
   "metadata": {},
   "outputs": [],
   "source": [
    "for label in df.columns:\n",
    "    if label != 'Country' and label != 'Continent':\n",
    "        df[label] = pd.to_numeric(df[label])"
   ]
  },
  {
   "cell_type": "code",
   "execution_count": null,
   "id": "c08763dd-5376-41b9-b1c4-3149dec54da2",
   "metadata": {},
   "outputs": [],
   "source": [
    "df.info()"
   ]
  },
  {
   "cell_type": "code",
   "execution_count": null,
   "id": "a68c191c-9d08-415d-be82-7ed98d17ecb5",
   "metadata": {},
   "outputs": [],
   "source": [
    "sns.relplot(x='Total Cases',y='Total Recovered',data = df,kind='line')\n",
    "plt.show()"
   ]
  },
  {
   "cell_type": "code",
   "execution_count": null,
   "id": "201d0c82-e6be-454d-8ba7-8ddbcddb1af5",
   "metadata": {},
   "outputs": [],
   "source": [
    "df[\"%inc Cases\"] = df['New Cases']/df['Total Cases']*100\n",
    "df[\"%inc Deaths\"]= df['New Deaths']/df['Total Deaths']*100\n",
    "df[\"%inc Recovered\"]=df['New Recovered']/df['Total Recovered']*100"
   ]
  },
  {
   "cell_type": "code",
   "execution_count": null,
   "id": "54e7e88e-6e60-4199-a776-18086dce22b7",
   "metadata": {},
   "outputs": [],
   "source": [
    "df.head()"
   ]
  },
  {
   "cell_type": "code",
   "execution_count": null,
   "id": "a29b8365-2030-4771-a8b2-443da74b8b13",
   "metadata": {},
   "outputs": [],
   "source": [
    "cases = df[['Total Cases', 'Active Cases','Total Deaths']].loc[0]\n",
    "cases_df =pd.DataFrame(cases).reset_index()\n",
    "cases_df.columns=['Type','Total']\n",
    "cases_df['Percentage']=np.round(100*cases_df['Total']/np.sum(cases_df['Total']),2)\n",
    "cases_df['Virus']=[\"COVID-19\" for i in range(len(cases_df))]\n",
    "fig = px.bar(cases_df, x= 'Virus',y= 'Percentage', color ='Type', hover_data=['Total'])\n",
    "fig.show()"
   ]
  },
  {
   "cell_type": "code",
   "execution_count": null,
   "id": "08d35046-59ac-4b94-a129-c886c424157c",
   "metadata": {},
   "outputs": [],
   "source": [
    "cases = df[['New Cases','New Deaths', 'New Recovered']].loc[0]\n",
    "cases_df = pd.DataFrame(cases).reset_index()\n",
    "cases_df.columns=['Type','Total']\n",
    "cases_df['Percentage']=np.round(100*cases_df['Total']/np.sum(cases_df['Total']),2)\n",
    "cases_df['Virus']=[\"COVID-19\" for i in range(len(cases_df))]\n",
    "fig = px.bar(cases_df,x='Virus',y='Percentage',color='Type',hover_data=['Total'])\n",
    "fig.show()"
   ]
  },
  {
   "cell_type": "code",
   "execution_count": null,
   "id": "3597cc4c-2095-4698-8874-1e025b8118a3",
   "metadata": {},
   "outputs": [],
   "source": [
    "df1 = df.drop([len(df)-1])\n",
    "country_df = df1.drop([0])\n",
    "country_df"
   ]
  },
  {
   "cell_type": "code",
   "execution_count": null,
   "id": "52d2a63f-79f7-4707-891f-b184985a9d8d",
   "metadata": {},
   "outputs": [],
   "source": [
    "country_df.shape"
   ]
  },
  {
   "cell_type": "code",
   "execution_count": null,
   "id": "5fc25b2e-44fa-4dfd-a03c-ec0a35dd8b22",
   "metadata": {},
   "outputs": [],
   "source": [
    "Top_Countries = 5\n",
    "country = country_df.columns[1:14]\n",
    "fig = go.Figure()\n",
    "c =0 \n",
    "for i in country_df.index:\n",
    "    if c <Top_Countries:\n",
    "        fig.add_trace(go.Bar(name=country_df['Country'][i],\n",
    "                             x=country,y=country_df.loc[i][1:14]))\n",
    "    else:\n",
    "        break\n",
    "    c +=1\n",
    "fig.update_layout(title={\"text\":f'top {Top_Countries} countries affected'},yaxis_type=\"log\")\n",
    "fig.show()"
   ]
  },
  {
   "cell_type": "code",
   "execution_count": null,
   "id": "281dbdc8-16dc-4561-a01c-533661fcecd8",
   "metadata": {},
   "outputs": [],
   "source": [
    "df['Continent'].value_counts()\n"
   ]
  },
  {
   "cell_type": "code",
   "execution_count": null,
   "id": "21a0fa08-5880-451d-b9fa-2794315d5528",
   "metadata": {},
   "outputs": [],
   "source": [
    "continent_df = df.groupby('Continent').sum().drop('All')\n",
    "continent_df = continent_df.reset_index()\n",
    "continent_df"
   ]
  },
  {
   "cell_type": "code",
   "execution_count": null,
   "id": "042e5ca9-e78c-4293-a038-d26a0fc85770",
   "metadata": {},
   "outputs": [],
   "source": [
    "cases_list = [\"Total Cases\",\"Total Deaths\",\"Total Recovered\",\"New Cases\", \"New Deaths\"]"
   ]
  },
  {
   "cell_type": "code",
   "execution_count": null,
   "id": "ed458ee3-3bac-42bf-acb1-db6a28c8c233",
   "metadata": {},
   "outputs": [],
   "source": [
    "def continent_visualization(v_list):\n",
    "    for label in v_list:\n",
    "        c_df = continent_df[['Continent',label]]\n",
    "        c_df['Percentage'] =np.round(100*c_df[label]/np.sum(c_df[label]),2)\n",
    "        c_df['Virus']=[\"COVID-19\" for i in range(len(c_df))]\n",
    "        fig = px.bar(c_df, x= 'Virus', y= 'Percentage',color='Continent',hover_data =[label])\n",
    "        fig.update_layout(title={\"text\":f\"{label}\"})\n",
    "        fig.show()\n",
    "        gc.collect()"
   ]
  },
  {
   "cell_type": "code",
   "execution_count": null,
   "id": "f0285946-b630-48b9-9e9a-7d3b8d691757",
   "metadata": {},
   "outputs": [],
   "source": [
    "continent_visualization(cases_list)"
   ]
  },
  {
   "cell_type": "code",
   "execution_count": null,
   "id": "4fb200f1-d98c-404e-b9e9-6705b18d4ef2",
   "metadata": {},
   "outputs": [],
   "source": []
  },
  {
   "cell_type": "code",
   "execution_count": null,
   "id": "f95e7e79-339b-4c39-a419-6b3068ac6876",
   "metadata": {},
   "outputs": [],
   "source": []
  }
 ],
 "metadata": {
  "kernelspec": {
   "display_name": "Python 3 (ipykernel)",
   "language": "python",
   "name": "python3"
  },
  "language_info": {
   "codemirror_mode": {
    "name": "ipython",
    "version": 3
   },
   "file_extension": ".py",
   "mimetype": "text/x-python",
   "name": "python",
   "nbconvert_exporter": "python",
   "pygments_lexer": "ipython3",
   "version": "3.11.7"
  }
 },
 "nbformat": 4,
 "nbformat_minor": 5
}
